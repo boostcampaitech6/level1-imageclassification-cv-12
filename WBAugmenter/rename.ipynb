{
 "cells": [
  {
   "cell_type": "code",
   "execution_count": 1,
   "metadata": {},
   "outputs": [
    {
     "name": "stderr",
     "output_type": "stream",
     "text": [
      "/tmp/ipykernel_856391/2786464953.py:9: SettingWithCopyWarning: \n",
      "A value is trying to be set on a copy of a slice from a DataFrame\n",
      "\n",
      "See the caveats in the documentation: https://pandas.pydata.org/pandas-docs/stable/user_guide/indexing.html#returning-a-view-versus-a-copy\n",
      "  data[\"ImageID\"][i] = data[\"ImageID\"][i].split(\".\")[0] + \".jpg\"\n"
     ]
    }
   ],
   "source": [
    "import pandas as pd\n",
    "import os\n",
    "\n",
    "origin_csv = \"/data/ephemeral/home/level1-imageclassification-cv-12/output/output_2023-12-19 15:00:44.csv\"  # inference 이후 나온 .csv\n",
    "target_csv = \"/data/ephemeral/home/level1-imageclassification-cv-12/output/output_2023-12-19 15:00:44_rv.csv\"  # 수정 후 저장 할 이름\n",
    "data = pd.read_csv(origin_csv)\n",
    "data.drop([\"Unnamed: 0\"], axis=1, inplace=True)  # unnamed:0 있는 경우\n",
    "for i in range(len(data[\"ImageID\"])):\n",
    "    data[\"ImageID\"][i] = data[\"ImageID\"][i].split(\".\")[0] + \".jpg\"\n",
    "\n",
    "data.to_csv(target_csv, index=False)"
   ]
  },
  {
   "cell_type": "code",
   "execution_count": null,
   "metadata": {},
   "outputs": [],
   "source": []
  }
 ],
 "metadata": {
  "kernelspec": {
   "display_name": "baseline",
   "language": "python",
   "name": "python3"
  },
  "language_info": {
   "codemirror_mode": {
    "name": "ipython",
    "version": 3
   },
   "file_extension": ".py",
   "mimetype": "text/x-python",
   "name": "python",
   "nbconvert_exporter": "python",
   "pygments_lexer": "ipython3",
   "version": "3.10.13"
  }
 },
 "nbformat": 4,
 "nbformat_minor": 2
}
